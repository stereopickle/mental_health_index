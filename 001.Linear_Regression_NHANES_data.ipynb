{
 "cells": [
  {
   "cell_type": "markdown",
   "metadata": {},
   "source": [
    "# Data Collection\n",
    "\n",
    "https://www.kaggle.com/cdc/national-health-and-nutrition-examination-survey?select=questionnaire.csv\n",
    "https://wwwn.cdc.gov/Nchs/Nhanes/Search/variablelist.aspx?Component=Questionnaire&CycleBeginYear=2013"
   ]
  },
  {
   "cell_type": "code",
   "execution_count": 649,
   "metadata": {},
   "outputs": [],
   "source": [
    "import pandas as pd\n",
    "import numpy as np\n",
    "import matplotlib.pyplot as plt\n",
    "import seaborn as sns\n",
    "import math\n",
    "%matplotlib inline\n",
    "\n",
    "import pickle\n",
    "\n",
    "import scipy.stats as st"
   ]
  },
  {
   "cell_type": "code",
   "execution_count": 5,
   "metadata": {},
   "outputs": [
    {
     "name": "stdout",
     "output_type": "stream",
     "text": [
      "demographic.csv    examination.csv    medications.csv\r\n",
      "diet.csv           labs.csv           questionnaire.csv\r\n"
     ]
    }
   ],
   "source": [
    "ls DATA/"
   ]
  },
  {
   "cell_type": "code",
   "execution_count": 671,
   "metadata": {},
   "outputs": [],
   "source": [
    "demo = pd.read_csv(\"DATA/demographic.csv\")\n",
    "exam = pd.read_csv(\"DATA/examination.csv\")\n",
    "medi = pd.read_csv(\"DATA/medications.csv\", engine ='python')\n",
    "diet = pd.read_csv(\"DATA/diet.csv\")\n",
    "labs = pd.read_csv(\"DATA/labs.csv\")\n",
    "ques = pd.read_csv(\"DATA/questionnaire.csv\")"
   ]
  },
  {
   "cell_type": "code",
   "execution_count": 672,
   "metadata": {},
   "outputs": [],
   "source": [
    "# Merge dataframes\n",
    "df = demo.merge(exam, on='SEQN').merge(medi, on='SEQN').merge(\n",
    "    diet, on='SEQN').merge(labs, on='SEQN').merge(ques, on='SEQN')\n"
   ]
  },
  {
   "cell_type": "code",
   "execution_count": 673,
   "metadata": {},
   "outputs": [],
   "source": [
    "df = df.drop_duplicates(subset = 'SEQN')"
   ]
  },
  {
   "cell_type": "markdown",
   "metadata": {},
   "source": [
    "# Dependent Variable (DV)\n",
    "What I am interested in is learning the factors that affect the mental health and depressive symptoms the most. To gauge this, I will create a mental health index as DV, using the scores from the questionnaires under Mental Health - Depression Screener section. I'll also narrow down the subjects to those who have answered to have experienced at least some level of depressive symptoms. (Because we are interested in knowing how to prevent people with mental health concerns to develop serious symptoms, not about mental health of general population.)\n",
    "\n",
    "First I'll eliminate the subjects entirely missing these scores, since we don't have any measure to infer these data. But if only some of these columns are missing, we will infer from other answers they provided.  "
   ]
  },
  {
   "cell_type": "code",
   "execution_count": 674,
   "metadata": {},
   "outputs": [],
   "source": [
    "# select only depression screener columns and subject number\n",
    "cols = ['SEQN'] + [c for c in df.columns if c.startswith('DPQ')]\n",
    "DPQ = df.loc[:, cols]\n",
    "DPQ.SEQN = DPQ.SEQN.apply(lambda x: str(x))"
   ]
  },
  {
   "cell_type": "code",
   "execution_count": 675,
   "metadata": {},
   "outputs": [
    {
     "data": {
      "text/html": [
       "<div>\n",
       "<style scoped>\n",
       "    .dataframe tbody tr th:only-of-type {\n",
       "        vertical-align: middle;\n",
       "    }\n",
       "\n",
       "    .dataframe tbody tr th {\n",
       "        vertical-align: top;\n",
       "    }\n",
       "\n",
       "    .dataframe thead th {\n",
       "        text-align: right;\n",
       "    }\n",
       "</style>\n",
       "<table border=\"1\" class=\"dataframe\">\n",
       "  <thead>\n",
       "    <tr style=\"text-align: right;\">\n",
       "      <th></th>\n",
       "      <th>DPQ010</th>\n",
       "      <th>DPQ020</th>\n",
       "      <th>DPQ030</th>\n",
       "      <th>DPQ040</th>\n",
       "      <th>DPQ050</th>\n",
       "      <th>DPQ060</th>\n",
       "      <th>DPQ070</th>\n",
       "      <th>DPQ080</th>\n",
       "      <th>DPQ090</th>\n",
       "      <th>DPQ100</th>\n",
       "    </tr>\n",
       "  </thead>\n",
       "  <tbody>\n",
       "    <tr>\n",
       "      <td>count</td>\n",
       "      <td>5398.000000</td>\n",
       "      <td>5396.000000</td>\n",
       "      <td>5395.000000</td>\n",
       "      <td>5395.000000</td>\n",
       "      <td>5395.000000</td>\n",
       "      <td>5394.000000</td>\n",
       "      <td>5394.000000</td>\n",
       "      <td>5394.000000</td>\n",
       "      <td>5393.000000</td>\n",
       "      <td>3674.000000</td>\n",
       "    </tr>\n",
       "    <tr>\n",
       "      <td>mean</td>\n",
       "      <td>0.415895</td>\n",
       "      <td>0.367865</td>\n",
       "      <td>0.618536</td>\n",
       "      <td>0.770714</td>\n",
       "      <td>0.397961</td>\n",
       "      <td>0.271598</td>\n",
       "      <td>0.289952</td>\n",
       "      <td>0.180200</td>\n",
       "      <td>0.056555</td>\n",
       "      <td>0.348122</td>\n",
       "    </tr>\n",
       "    <tr>\n",
       "      <td>std</td>\n",
       "      <td>0.833711</td>\n",
       "      <td>0.774571</td>\n",
       "      <td>0.964800</td>\n",
       "      <td>0.942682</td>\n",
       "      <td>0.802593</td>\n",
       "      <td>0.702979</td>\n",
       "      <td>0.722671</td>\n",
       "      <td>0.589614</td>\n",
       "      <td>0.367381</td>\n",
       "      <td>0.682270</td>\n",
       "    </tr>\n",
       "    <tr>\n",
       "      <td>min</td>\n",
       "      <td>0.000000</td>\n",
       "      <td>0.000000</td>\n",
       "      <td>0.000000</td>\n",
       "      <td>0.000000</td>\n",
       "      <td>0.000000</td>\n",
       "      <td>0.000000</td>\n",
       "      <td>0.000000</td>\n",
       "      <td>0.000000</td>\n",
       "      <td>0.000000</td>\n",
       "      <td>0.000000</td>\n",
       "    </tr>\n",
       "    <tr>\n",
       "      <td>25%</td>\n",
       "      <td>0.000000</td>\n",
       "      <td>0.000000</td>\n",
       "      <td>0.000000</td>\n",
       "      <td>0.000000</td>\n",
       "      <td>0.000000</td>\n",
       "      <td>0.000000</td>\n",
       "      <td>0.000000</td>\n",
       "      <td>0.000000</td>\n",
       "      <td>0.000000</td>\n",
       "      <td>0.000000</td>\n",
       "    </tr>\n",
       "    <tr>\n",
       "      <td>50%</td>\n",
       "      <td>0.000000</td>\n",
       "      <td>0.000000</td>\n",
       "      <td>0.000000</td>\n",
       "      <td>1.000000</td>\n",
       "      <td>0.000000</td>\n",
       "      <td>0.000000</td>\n",
       "      <td>0.000000</td>\n",
       "      <td>0.000000</td>\n",
       "      <td>0.000000</td>\n",
       "      <td>0.000000</td>\n",
       "    </tr>\n",
       "    <tr>\n",
       "      <td>75%</td>\n",
       "      <td>1.000000</td>\n",
       "      <td>0.000000</td>\n",
       "      <td>1.000000</td>\n",
       "      <td>1.000000</td>\n",
       "      <td>1.000000</td>\n",
       "      <td>0.000000</td>\n",
       "      <td>0.000000</td>\n",
       "      <td>0.000000</td>\n",
       "      <td>0.000000</td>\n",
       "      <td>1.000000</td>\n",
       "    </tr>\n",
       "    <tr>\n",
       "      <td>max</td>\n",
       "      <td>9.000000</td>\n",
       "      <td>9.000000</td>\n",
       "      <td>7.000000</td>\n",
       "      <td>7.000000</td>\n",
       "      <td>9.000000</td>\n",
       "      <td>9.000000</td>\n",
       "      <td>9.000000</td>\n",
       "      <td>9.000000</td>\n",
       "      <td>9.000000</td>\n",
       "      <td>9.000000</td>\n",
       "    </tr>\n",
       "  </tbody>\n",
       "</table>\n",
       "</div>"
      ],
      "text/plain": [
       "            DPQ010       DPQ020       DPQ030       DPQ040       DPQ050  \\\n",
       "count  5398.000000  5396.000000  5395.000000  5395.000000  5395.000000   \n",
       "mean      0.415895     0.367865     0.618536     0.770714     0.397961   \n",
       "std       0.833711     0.774571     0.964800     0.942682     0.802593   \n",
       "min       0.000000     0.000000     0.000000     0.000000     0.000000   \n",
       "25%       0.000000     0.000000     0.000000     0.000000     0.000000   \n",
       "50%       0.000000     0.000000     0.000000     1.000000     0.000000   \n",
       "75%       1.000000     0.000000     1.000000     1.000000     1.000000   \n",
       "max       9.000000     9.000000     7.000000     7.000000     9.000000   \n",
       "\n",
       "            DPQ060       DPQ070       DPQ080       DPQ090       DPQ100  \n",
       "count  5394.000000  5394.000000  5394.000000  5393.000000  3674.000000  \n",
       "mean      0.271598     0.289952     0.180200     0.056555     0.348122  \n",
       "std       0.702979     0.722671     0.589614     0.367381     0.682270  \n",
       "min       0.000000     0.000000     0.000000     0.000000     0.000000  \n",
       "25%       0.000000     0.000000     0.000000     0.000000     0.000000  \n",
       "50%       0.000000     0.000000     0.000000     0.000000     0.000000  \n",
       "75%       0.000000     0.000000     0.000000     0.000000     1.000000  \n",
       "max       9.000000     9.000000     9.000000     9.000000     9.000000  "
      ]
     },
     "execution_count": 675,
     "metadata": {},
     "output_type": "execute_result"
    }
   ],
   "source": [
    "DPQ.describe()"
   ]
  },
  {
   "cell_type": "markdown",
   "metadata": {},
   "source": [
    "### Data transformation \n",
    "7 is Refused to answer and 9 is don't know.  So we will turn these into nan values. "
   ]
  },
  {
   "cell_type": "code",
   "execution_count": 676,
   "metadata": {},
   "outputs": [],
   "source": [
    "DPQ = DPQ.replace(7, np.nan)\n",
    "DPQ = DPQ.replace(9, np.nan)\n"
   ]
  },
  {
   "cell_type": "markdown",
   "metadata": {},
   "source": [
    "### Missing sub-value for DV \n",
    "Each questions are rated at same scale (0-3).  \n",
    "\n",
    "DPQ100 is conditional to have answered high on other columns (If responded to any of the other question with 1, 2 or 3) So we can safely assume that if only this value is missing, it means 0. \n",
    "\n",
    "If more than half of these columns (exc. DPQ100, >= 5) are missing, we will drop the subject. Otherwise, we will figure out a way to infer the measures."
   ]
  },
  {
   "cell_type": "code",
   "execution_count": 677,
   "metadata": {},
   "outputs": [],
   "source": [
    "# If DPQ100 is missing, replace it with 0.\n",
    "DPQ.DPQ100 = DPQ.DPQ100.replace(np.nan, 0)"
   ]
  },
  {
   "cell_type": "code",
   "execution_count": 678,
   "metadata": {},
   "outputs": [],
   "source": [
    "# If there are more than half columns missing, drop the subject.\n",
    "DPQ = DPQ.drop(DPQ[DPQ.isnull().sum(axis = 1) > 4].index, axis = 0)"
   ]
  },
  {
   "cell_type": "code",
   "execution_count": 679,
   "metadata": {},
   "outputs": [
    {
     "data": {
      "text/plain": [
       "SEQN      0\n",
       "DPQ010    5\n",
       "DPQ020    5\n",
       "DPQ030    1\n",
       "DPQ040    1\n",
       "DPQ050    2\n",
       "DPQ060    5\n",
       "DPQ070    4\n",
       "DPQ080    4\n",
       "DPQ090    5\n",
       "DPQ100    0\n",
       "dtype: int64"
      ]
     },
     "execution_count": 679,
     "metadata": {},
     "output_type": "execute_result"
    }
   ],
   "source": [
    "# look at the columns with missing values\n",
    "DPQ.isnull().sum()"
   ]
  },
  {
   "cell_type": "markdown",
   "metadata": {},
   "source": [
    "There are some missing values. We will replace it with the highest correlated column value."
   ]
  },
  {
   "cell_type": "code",
   "execution_count": 680,
   "metadata": {},
   "outputs": [],
   "source": [
    "# select the value that correlates the most with each columns\n",
    "tmp = DPQ.dropna().iloc[:, 1:10]\n",
    "cols = list(DPQ.columns)[1:10]\n",
    "cor_dict = {}\n",
    "for c in cols: \n",
    "    Y = tmp[c]\n",
    "    X = tmp.drop(c, axis = 1)\n",
    "    corr_ = X.corrwith(Y)\n",
    "    max_ = corr_[corr_ == max(corr_)]\n",
    "    cor_dict[c] = (list(max_.index)[0], max_[0])"
   ]
  },
  {
   "cell_type": "code",
   "execution_count": 681,
   "metadata": {},
   "outputs": [
    {
     "data": {
      "text/plain": [
       "{'DPQ010': ('DPQ020', 0.5317926404418502),\n",
       " 'DPQ020': ('DPQ060', 0.5933182662318698),\n",
       " 'DPQ030': ('DPQ040', 0.5156076939700797),\n",
       " 'DPQ040': ('DPQ030', 0.5156076939700797),\n",
       " 'DPQ050': ('DPQ040', 0.4471370380967231),\n",
       " 'DPQ060': ('DPQ020', 0.5933182662318698),\n",
       " 'DPQ070': ('DPQ020', 0.4508314640526112),\n",
       " 'DPQ080': ('DPQ070', 0.4440335632622107),\n",
       " 'DPQ090': ('DPQ060', 0.4098166450969543)}"
      ]
     },
     "execution_count": 681,
     "metadata": {},
     "output_type": "execute_result"
    }
   ],
   "source": [
    "cor_dict"
   ]
  },
  {
   "cell_type": "code",
   "execution_count": 682,
   "metadata": {},
   "outputs": [],
   "source": [
    "# fill NA with the value from highest correlated questionnarie\n",
    "for k, v in cor_dict.items():\n",
    "    DPQ[k] = DPQ[k].fillna(DPQ[v[0]])"
   ]
  },
  {
   "cell_type": "code",
   "execution_count": 683,
   "metadata": {},
   "outputs": [],
   "source": [
    "# there are a few that could not be filled (probably because both variables were empty). \n",
    "# There aren't that many so I'll drop these ones.\n",
    "DPQ = DPQ.dropna(axis = 0)"
   ]
  },
  {
   "cell_type": "code",
   "execution_count": 473,
   "metadata": {},
   "outputs": [],
   "source": [
    "# Fill the rest of missing values with the row means\n",
    "# DPQ = DPQ.T.fillna(DPQ.mean(axis=1)).T"
   ]
  },
  {
   "cell_type": "markdown",
   "metadata": {},
   "source": [
    "## Add MH_Index\n",
    "The real DV I'm interested in is the total score of these measures, which I will call \"MH_Index (Mental Health Index)\". \n",
    "I'm using the total score instead of mean, because even though I believe each questin weighs differently in terms of how much it contributes to the idea of mental health (suicidal thought should weigh more than feeling tired), but I don't want to take the liberty of assigning these weights myself. "
   ]
  },
  {
   "cell_type": "code",
   "execution_count": 684,
   "metadata": {},
   "outputs": [],
   "source": [
    "# sum of each row as MH_Index\n",
    "DPQ['MH_Index'] = DPQ.sum(axis = 1)"
   ]
  },
  {
   "cell_type": "markdown",
   "metadata": {},
   "source": [
    "## Subsetting dataset\n",
    "The ultimate purpose of my research is to reduce suicide rate. So I'm interested in what factors may affect the people to go from depressive symptom to suicidal thouoght. So participants who answered to not feel depressed at all are not relevant to this question. Including them may also potentially skew the model and weaken the relationship to factors that has stronger influence on people with some depressive symptoms. So I'll remove these participants. "
   ]
  },
  {
   "cell_type": "code",
   "execution_count": 685,
   "metadata": {},
   "outputs": [],
   "source": [
    "DPQ = DPQ[DPQ.DPQ020 != 0]"
   ]
  },
  {
   "cell_type": "code",
   "execution_count": 686,
   "metadata": {},
   "outputs": [
    {
     "data": {
      "text/plain": [
       "<matplotlib.axes._subplots.AxesSubplot at 0x7f9753010ed0>"
      ]
     },
     "execution_count": 686,
     "metadata": {},
     "output_type": "execute_result"
    },
    {
     "data": {
      "image/png": "[encoded data removed]",
      "text/plain": [
       "<Figure size 432x288 with 1 Axes>"
      ]
     },
     "metadata": {
      "needs_background": "light"
     },
     "output_type": "display_data"
    }
   ],
   "source": [
    "sns.distplot(DPQ['MH_Index'])"
   ]
  },
  {
   "cell_type": "code",
   "execution_count": 687,
   "metadata": {},
   "outputs": [
    {
     "data": {
      "text/plain": [
       "<matplotlib.axes._subplots.AxesSubplot at 0x7f9752fc4f90>"
      ]
     },
     "execution_count": 687,
     "metadata": {},
     "output_type": "execute_result"
    },
    {
     "data": {
      "image/png": "[encoded data removed]",
      "text/plain": [
       "<Figure size 432x288 with 1 Axes>"
      ]
     },
     "metadata": {
      "needs_background": "light"
     },
     "output_type": "display_data"
    }
   ],
   "source": [
    "# log transformation\n",
    "DPQ['MH_Index_cbrt'] = np.cbrt(DPQ.MH_Index)\n",
    "sns.distplot(DPQ['MH_Index_cbrt'])\n"
   ]
  },
  {
   "cell_type": "markdown",
   "metadata": {},
   "source": [
    "## DPQ.MH_Index (or ln) is the DV."
   ]
  },
  {
   "cell_type": "markdown",
   "metadata": {},
   "source": [
    "#### Interpretting log transformed DV\n",
    "\n",
    "https://data.library.virginia.edu/interpreting-log-transformations-in-a-linear-model/\n",
    "   \n",
    "\"Exponentiate the coefficient, subtract one from this number, and multiply by 100. This gives the percent increase (or decrease) in the response for every one-unit increase in the independent variable. Example: the coefficient is 0.198. (exp(0.198) – 1) * 100 = 21.9. For every one-unit increase in the independent variable, our dependent variable increases by about 22%.\"\n",
    "    "
   ]
  },
  {
   "cell_type": "markdown",
   "metadata": {},
   "source": [
    "# Selecting Independent Variables\n",
    "There are over 1500 measures here. It won't make sense to run with all of these measures. So I will narrow down to topics that I think is important. \n",
    "\n",
    "**Topics I'll look at**\n",
    "0. General Demographics\n",
    "    - Age\n",
    "    - Gender\n",
    "    - Race\n",
    "    - Sexual Identity\n",
    "    - Income\n",
    "    - Household (Family size)\n",
    "    - Emplyment Status / Occupation (OCQ)\n",
    "    - Education level \n",
    "    - Veterans\n",
    "1. Existing Conditions\n",
    "    - Disability (DLQ)\n",
    "    - Physical Functioning (PFQ)\n",
    "    - Medical Conditions (MCQ)\n",
    "    - Sleep (SLQ)\n",
    "2. Hormone Level\n",
    "    - maybe. \n",
    "3. Accessibility to Care\n",
    "    - Visit to health care professional (HUQ061)\n",
    "    - Visit to mental health professional (HUQ090)\n",
    "4. Lifestyle (ability to maintain)\n",
    "    - Physical Activity (PAQ)\n",
    "    - Food security (FSQ)\n",
    "5. Diet & Nutrition (CBQ/DBQ)\n",
    "6. Substance Abuse (DUQ, ALQ)\n",
    "7. Pregnancy\n"
   ]
  },
  {
   "cell_type": "markdown",
   "metadata": {},
   "source": [
    "## Demographics\n",
    "Age: RIDAGEYR (in year, capped at 80)  \n",
    "Gender: RIAGENDR (1: male, 2: female)  \n",
    "Family Income: INDFMIN2  \n",
    "Income to poverty guideline : INDFMPIR  \n",
    "number of people in the household : DMDHHSIZ  \n",
    "Veterans : DMQMILIZ  \n",
    "Sexual Identity: SXQ294   \n",
    "- Heterosexual or straight (attracted to men)  1  \n",
    "    Homosexual or lesbian (attracted to women) 2  \n",
    "    Bisexual (attracted to men and women)  3  \n",
    "    Something else 4  \n",
    "    Not sure 5  \n",
    "    REFUSED  7  \n",
    "    DON'T KNOW  9  \n",
    "Education level: DMDHREDU  \n",
    " "
   ]
  },
  {
   "cell_type": "code",
   "execution_count": 851,
   "metadata": {},
   "outputs": [],
   "source": [
    "df.SEQN = df.SEQN.astype('str')"
   ]
  },
  {
   "cell_type": "code",
   "execution_count": 852,
   "metadata": {},
   "outputs": [],
   "source": [
    "# merge DV to narrow down the subjects\n",
    "MHI = DPQ[['SEQN', 'MH_Index', 'MH_Index_cbrt']]\n",
    "select_df = MHI.merge(df, on =\"SEQN\")"
   ]
  },
  {
   "cell_type": "code",
   "execution_count": 853,
   "metadata": {},
   "outputs": [],
   "source": [
    "# changing variable name to somethign more intuitive\n",
    "select_df = select_df.rename(columns = {\"RIDAGEYR\":\"age\", \n",
    "                                       \"RIAGENDR\": \"gender\", \n",
    "                                        \"DMDHHSIZ\": \"total_household\", \n",
    "                                       \"INDFMIN2\": \"income\",\n",
    "                                       \"DMDHREDU\": \"education\"})"
   ]
  },
  {
   "cell_type": "markdown",
   "metadata": {},
   "source": [
    "### Age\n",
    "Survey age was capped at 80, meaning age of anyone older was inputted as 80. To adapt to this, I'll add some noise to this data by dispersing the data with age 80 to be random integer between 80 to 90.  \n",
    "Otherwise we see that it's heavy on 18 years old, and rest are more or less noisy.  "
   ]
  },
  {
   "cell_type": "code",
   "execution_count": 854,
   "metadata": {},
   "outputs": [
    {
     "data": {
      "text/plain": [
       "<matplotlib.axes._subplots.AxesSubplot at 0x7f972177edd0>"
      ]
     },
     "execution_count": 854,
     "metadata": {},
     "output_type": "execute_result"
    },
    {
     "data": {
      "image/png": "[encoded data removed]",
      "text/plain": [
       "<Figure size 432x288 with 1 Axes>"
      ]
     },
     "metadata": {
      "needs_background": "light"
     },
     "output_type": "display_data"
    }
   ],
   "source": [
    "select_df.age.plot(kind = 'hist', bins = 30)"
   ]
  },
  {
   "cell_type": "code",
   "execution_count": 855,
   "metadata": {},
   "outputs": [],
   "source": [
    "select_df.age = select_df.age.apply(lambda x: np.random.randint(80, 90, 1)[0] if x == 80 else x)"
   ]
  },
  {
   "cell_type": "code",
   "execution_count": 856,
   "metadata": {},
   "outputs": [
    {
     "data": {
      "text/plain": [
       "0"
      ]
     },
     "execution_count": 856,
     "metadata": {},
     "output_type": "execute_result"
    }
   ],
   "source": [
    "select_df.age.isnull().sum()"
   ]
  },
  {
   "cell_type": "markdown",
   "metadata": {},
   "source": [
    "### Gender\n",
    "63% of the sample are female. "
   ]
  },
  {
   "cell_type": "code",
   "execution_count": 857,
   "metadata": {},
   "outputs": [
    {
     "data": {
      "text/plain": [
       "<matplotlib.legend.Legend at 0x7f972120e090>"
      ]
     },
     "execution_count": 857,
     "metadata": {},
     "output_type": "execute_result"
    },
    {
     "data": {
      "image/png": "[encoded data removed]",
      "text/plain": [
       "<Figure size 432x288 with 1 Axes>"
      ]
     },
     "metadata": {
      "needs_background": "light"
     },
     "output_type": "display_data"
    }
   ],
   "source": [
    "select_df.age[select_df.gender == 1].plot(kind = 'hist', bins = 30, alpha = 0.7, label = \"M\")\n",
    "select_df.age[select_df.gender == 2].plot(kind = 'hist', bins = 30, alpha = 0.3, label = \"F\")\n",
    "plt.legend()"
   ]
  },
  {
   "cell_type": "code",
   "execution_count": 858,
   "metadata": {},
   "outputs": [
    {
     "data": {
      "text/plain": [
       "2    0.62803\n",
       "1    0.37197\n",
       "Name: gender, dtype: float64"
      ]
     },
     "execution_count": 858,
     "metadata": {},
     "output_type": "execute_result"
    }
   ],
   "source": [
    "select_df.gender.value_counts(normalize = True)"
   ]
  },
  {
   "cell_type": "code",
   "execution_count": 859,
   "metadata": {},
   "outputs": [
    {
     "data": {
      "text/plain": [
       "0"
      ]
     },
     "execution_count": 859,
     "metadata": {},
     "output_type": "execute_result"
    }
   ],
   "source": [
    "select_df.gender.isnull().sum()"
   ]
  },
  {
   "cell_type": "markdown",
   "metadata": {},
   "source": [
    "### Total number of household\n",
    "Most households have 2 people, followed by 3, 1, 4."
   ]
  },
  {
   "cell_type": "code",
   "execution_count": 860,
   "metadata": {},
   "outputs": [
    {
     "data": {
      "text/plain": [
       "<matplotlib.axes._subplots.AxesSubplot at 0x7f9721aeec90>"
      ]
     },
     "execution_count": 860,
     "metadata": {},
     "output_type": "execute_result"
    },
    {
     "data": {
      "image/png": "[encoded data removed]",
      "text/plain": [
       "<Figure size 432x288 with 1 Axes>"
      ]
     },
     "metadata": {
      "needs_background": "light"
     },
     "output_type": "display_data"
    }
   ],
   "source": [
    "select_df.total_household.plot(kind = 'hist', bins = 30)"
   ]
  },
  {
   "cell_type": "code",
   "execution_count": 861,
   "metadata": {},
   "outputs": [
    {
     "data": {
      "text/plain": [
       "2    0.274242\n",
       "3    0.184848\n",
       "1    0.161364\n",
       "4    0.146212\n",
       "5    0.116667\n",
       "7    0.059091\n",
       "6    0.057576\n",
       "Name: total_household, dtype: float64"
      ]
     },
     "execution_count": 861,
     "metadata": {},
     "output_type": "execute_result"
    }
   ],
   "source": [
    "select_df.total_household.value_counts(normalize = True)"
   ]
  },
  {
   "cell_type": "code",
   "execution_count": 862,
   "metadata": {},
   "outputs": [
    {
     "data": {
      "text/plain": [
       "0"
      ]
     },
     "execution_count": 862,
     "metadata": {},
     "output_type": "execute_result"
    }
   ],
   "source": [
    "select_df.total_household.isnull().sum()"
   ]
  },
  {
   "cell_type": "markdown",
   "metadata": {},
   "source": [
    "#### Household types\n",
    "I want to know in detail different household types. Single mom and a couple are both two people households but their living situation can be very different. I'll create a new feature \"n_dependents\" and add up all children numbers (under 5 or under 17). Then add a new feature \"n_adults\", a household number subtracting children number."
   ]
  },
  {
   "cell_type": "code",
   "execution_count": 863,
   "metadata": {},
   "outputs": [
    {
     "data": {
      "text/plain": [
       "2    551\n",
       "3    273\n",
       "1    266\n",
       "4    154\n",
       "5     46\n",
       "7     17\n",
       "6     12\n",
       "0      1\n",
       "Name: n_adults, dtype: int64"
      ]
     },
     "execution_count": 863,
     "metadata": {},
     "output_type": "execute_result"
    }
   ],
   "source": [
    "select_df['n_dependents'] = select_df['DMDHHSZA'] + select_df['DMDHHSZB']\n",
    "select_df['n_adults'] = select_df['total_household'] - select_df['n_dependents']\n",
    "select_df.n_adults.value_counts()"
   ]
  },
  {
   "cell_type": "markdown",
   "metadata": {},
   "source": [
    "### Income (Total household income as a range value in dollars)\n",
    "They are tiered. I'll put the mean value of the interval."
   ]
  },
  {
   "cell_type": "code",
   "execution_count": 864,
   "metadata": {},
   "outputs": [],
   "source": [
    "cond = [\n",
    "    select_df.income == 1, \n",
    "    select_df.income == 2, \n",
    "    select_df.income == 3, \n",
    "    select_df.income == 4, \n",
    "    select_df.income == 5, \n",
    "    select_df.income == 6, \n",
    "    select_df.income == 7, \n",
    "    select_df.income == 8, \n",
    "    select_df.income == 9, \n",
    "    select_df.income == 10, \n",
    "    select_df.income == 12, \n",
    "    select_df.income == 13, \n",
    "    select_df.income == 14, \n",
    "    select_df.income == 15 \n",
    "]\n",
    "vals = [np.mean([0, 4999]), np.mean([5000, 9999]), np.mean([10000, 14999]), \n",
    "       np.mean([15000, 19999]), np.mean([20000, 24999]), np.mean([25000, 34999]), \n",
    "       np.mean([35000, 44999]), np.mean([45000, 54999]), np.mean([55000, 64999]), \n",
    "       np.mean([65000, 74999]), np.mean([20000, 40000]), np.mean([0, 20000]), \n",
    "       np.mean([75000, 99999]), np.mean([100000, 200000])]\n",
    "\n",
    "select_df['income_avg'] = np.select(cond, vals, np.nan)"
   ]
  },
  {
   "cell_type": "code",
   "execution_count": 865,
   "metadata": {},
   "outputs": [
    {
     "name": "stderr",
     "output_type": "stream",
     "text": [
      "/opt/anaconda3/lib/python3.7/site-packages/numpy/lib/function_base.py:2526: RuntimeWarning: Degrees of freedom <= 0 for slice\n",
      "  c = cov(x, y, rowvar)\n",
      "/opt/anaconda3/lib/python3.7/site-packages/numpy/lib/function_base.py:2455: RuntimeWarning: divide by zero encountered in true_divide\n",
      "  c *= np.true_divide(1, fact)\n"
     ]
    },
    {
     "data": {
      "text/plain": [
       "income_avg    1.000000\n",
       "MCQ240J       1.000000\n",
       "OSD110E       1.000000\n",
       "OSD110C       1.000000\n",
       "MCQ240T       1.000000\n",
       "OSQ090E       0.977140\n",
       "RHQ602Q       0.960769\n",
       "income        0.894650\n",
       "INDFMPIR      0.873786\n",
       "INDFMMPI      0.773866\n",
       "SMQ740        0.757460\n",
       "DBQ390        0.745770\n",
       "OSD050AB      0.730409\n",
       "INDHHIN2      0.630805\n",
       "PHASUPMN      0.538625\n",
       "OSD050BA      0.470817\n",
       "DMDHSEDU      0.459129\n",
       "FSD650ZW      0.457924\n",
       "DBQ400        0.445106\n",
       "OSD050CA      0.434811\n",
       "dtype: float64"
      ]
     },
     "execution_count": 865,
     "metadata": {},
     "output_type": "execute_result"
    }
   ],
   "source": [
    "select_df.corrwith(select_df.income_avg).sort_values(ascending = False)[0:20]"
   ]
  },
  {
   "cell_type": "code",
   "execution_count": 866,
   "metadata": {},
   "outputs": [
    {
     "data": {
      "text/plain": [
       "57"
      ]
     },
     "execution_count": 866,
     "metadata": {},
     "output_type": "execute_result"
    }
   ],
   "source": [
    "select_df.income_avg.isnull().sum()"
   ]
  },
  {
   "cell_type": "code",
   "execution_count": 867,
   "metadata": {},
   "outputs": [
    {
     "data": {
      "text/plain": [
       "<matplotlib.axes._subplots.AxesSubplot at 0x7f9722a00690>"
      ]
     },
     "execution_count": 867,
     "metadata": {},
     "output_type": "execute_result"
    },
    {
     "data": {
      "image/png": "[encoded data removed]",
      "text/plain": [
       "<Figure size 432x288 with 1 Axes>"
      ]
     },
     "metadata": {
      "needs_background": "light"
     },
     "output_type": "display_data"
    }
   ],
   "source": [
    "sns.distplot(select_df.income_avg[~select_df.income_avg.isnull()])"
   ]
  },
  {
   "cell_type": "markdown",
   "metadata": {},
   "source": [
    "no other correlated measures have enough data to infer the missing vlaues.\n",
    "Since distribution is skewed, I'll put median for misisng incomes."
   ]
  },
  {
   "cell_type": "code",
   "execution_count": 868,
   "metadata": {},
   "outputs": [],
   "source": [
    "select_df.income_avg = select_df.income_avg.fillna(np.median(select_df.income_avg[~select_df.income_avg.isnull()]))"
   ]
  },
  {
   "cell_type": "code",
   "execution_count": 921,
   "metadata": {},
   "outputs": [],
   "source": [
    "# adding log transformation to even out the skew\n",
    "select_df['income_avg_ln'] = np.log(select_df.income_avg)"
   ]
  },
  {
   "cell_type": "markdown",
   "metadata": {},
   "source": [
    "### Marital Status\n",
    "Instead of dropping nan values, I'll add a new category 'others', for people who decided not to answer or 'don't know' the answer. "
   ]
  },
  {
   "cell_type": "code",
   "execution_count": 664,
   "metadata": {},
   "outputs": [
    {
     "data": {
      "text/plain": [
       "16"
      ]
     },
     "execution_count": 664,
     "metadata": {},
     "output_type": "execute_result"
    }
   ],
   "source": [
    "select_df.income.isnull().sum()"
   ]
  },
  {
   "cell_type": "code",
   "execution_count": 873,
   "metadata": {},
   "outputs": [],
   "source": [
    "select_df['marital_st'] = np.where((select_df.DMDHRMAR == 77) | (select_df.DMDHRMAR == 77) | (select_df.DMDHRMAR.isnull()), \n",
    "         0, select_df.DMDHRMAR)"
   ]
  },
  {
   "cell_type": "code",
   "execution_count": 882,
   "metadata": {},
   "outputs": [
    {
     "data": {
      "image/png": "[encoded data removed]",
      "text/plain": [
       "<Figure size 432x288 with 1 Axes>"
      ]
     },
     "metadata": {
      "needs_background": "light"
     },
     "output_type": "display_data"
    }
   ],
   "source": [
    "select_df.marital_st.plot(kind = 'hist', bins = 30)\n",
    "plt.xticks([0, 1, 2, 3, 4, 5, 6], \n",
    "           labels = ['others', 'married', 'widowed', 'divorced', \n",
    "                    'separated', 'single', 'w_partner'])\n",
    "plt.show()"
   ]
  },
  {
   "cell_type": "code",
   "execution_count": 874,
   "metadata": {},
   "outputs": [
    {
     "data": {
      "text/plain": [
       "1.0    621\n",
       "3.0    219\n",
       "5.0    194\n",
       "2.0    115\n",
       "6.0     96\n",
       "4.0     60\n",
       "0.0     15\n",
       "Name: marital_st, dtype: int64"
      ]
     },
     "execution_count": 874,
     "metadata": {},
     "output_type": "execute_result"
    }
   ],
   "source": [
    "select_df.marital_st.value_counts()"
   ]
  },
  {
   "cell_type": "code",
   "execution_count": 875,
   "metadata": {},
   "outputs": [
    {
     "data": {
      "text/plain": [
       "0"
      ]
     },
     "execution_count": 875,
     "metadata": {},
     "output_type": "execute_result"
    }
   ],
   "source": [
    "select_df.marital_st.isnull().sum()"
   ]
  },
  {
   "cell_type": "markdown",
   "metadata": {},
   "source": [
    "### Veterans\n",
    "I will combine veterans from US and foreign countries to create a binary column veteran."
   ]
  },
  {
   "cell_type": "code",
   "execution_count": 876,
   "metadata": {},
   "outputs": [],
   "source": [
    "select_df['veteran'] = np.where((select_df.DMQADFC == 1) | (select_df.DMQMILIZ == 1), \n",
    "        1, 0)"
   ]
  },
  {
   "cell_type": "markdown",
   "metadata": {},
   "source": [
    "### Education\n",
    "There are separate questions for people age 20+, and for 18, 19 years olds. I'll combine them to create a collective category."
   ]
  },
  {
   "cell_type": "code",
   "execution_count": 896,
   "metadata": {},
   "outputs": [],
   "source": [
    "cond = [(select_df.DMDEDUC2.isnull()) & ((select_df.DMDEDUC3 < 10) | (select_df.DMDEDUC3 == 66)  | (select_df.DMDEDUC3 == 55)),\n",
    "        (select_df.DMDEDUC2.isnull()) & (select_df.DMDEDUC3 < 12),#Some HS or less\n",
    "        (select_df.DMDEDUC2.isnull()) & (select_df.DMDEDUC3 <= 14),#HS & GED\n",
    "        (select_df.DMDEDUC2.isnull()) & (select_df.DMDEDUC3 == 15)#Some col\n",
    "       ]\n",
    "vals = [1, 2, 3, 4]\n",
    "select_df['education'] = np.select(cond, vals, select_df.DMDEDUC2)\n"
   ]
  },
  {
   "cell_type": "code",
   "execution_count": 897,
   "metadata": {},
   "outputs": [
    {
     "data": {
      "text/plain": [
       "4.0    407\n",
       "3.0    325\n",
       "2.0    238\n",
       "5.0    234\n",
       "1.0    116\n",
       "Name: education, dtype: int64"
      ]
     },
     "execution_count": 897,
     "metadata": {},
     "output_type": "execute_result"
    }
   ],
   "source": [
    "select_df.education.value_counts()"
   ]
  },
  {
   "cell_type": "code",
   "execution_count": 900,
   "metadata": {},
   "outputs": [
    {
     "data": {
      "image/png": "[encoded data removed]",
      "text/plain": [
       "<Figure size 432x288 with 1 Axes>"
      ]
     },
     "metadata": {
      "needs_background": "light"
     },
     "output_type": "display_data"
    }
   ],
   "source": [
    "select_df.education.plot(kind = 'hist', bins = 30)\n",
    "plt.xticks([1, 2, 3, 4, 5], \n",
    "           labels = ['< HS', 'Sm HS', 'HS', 'Sm College', '> College'])\n",
    "plt.show()"
   ]
  },
  {
   "cell_type": "markdown",
   "metadata": {},
   "source": [
    "### US Born"
   ]
  },
  {
   "cell_type": "code",
   "execution_count": 903,
   "metadata": {},
   "outputs": [
    {
     "data": {
      "text/plain": [
       "1     974\n",
       "2     345\n",
       "77      1\n",
       "Name: DMDBORN4, dtype: int64"
      ]
     },
     "execution_count": 903,
     "metadata": {},
     "output_type": "execute_result"
    }
   ],
   "source": [
    "select_df.DMDBORN4.value_counts()"
   ]
  },
  {
   "cell_type": "markdown",
   "metadata": {},
   "source": [
    "No way to infer why one person refused to answer, so I'll drop that person."
   ]
  },
  {
   "cell_type": "code",
   "execution_count": 906,
   "metadata": {},
   "outputs": [],
   "source": [
    "select_df['US_born'] = np.where(select_df.DMDBORN4 == 77, \n",
    "                             np.nan, select_df.DMDBORN4)"
   ]
  },
  {
   "cell_type": "markdown",
   "metadata": {},
   "source": [
    "### Length in US\n",
    "Tirered, I'll keep them as is for now, and treat the missing and refused to answer values as one category."
   ]
  },
  {
   "cell_type": "code",
   "execution_count": 909,
   "metadata": {},
   "outputs": [],
   "source": [
    "select_df['Length_US'] = np.where((select_df.DMDYRSUS == 77) | (select_df.DMDYRSUS == 99) | (select_df.DMDYRSUS.isnull()), \n",
    "                             0, select_df.DMDYRSUS)"
   ]
  },
  {
   "cell_type": "code",
   "execution_count": null,
   "metadata": {},
   "outputs": [],
   "source": []
  },
  {
   "cell_type": "markdown",
   "metadata": {},
   "source": [
    "## Plotting Relationship\n",
    "I'll plot relationship and build a baseline model from these demographics data first."
   ]
  },
  {
   "cell_type": "code",
   "execution_count": 912,
   "metadata": {},
   "outputs": [],
   "source": [
    "# for each columns, plot scatter plot\n",
    "def mass_scatter(df, y = 'MH_Index'):\n",
    "    a = len(df.columns)\n",
    "    ncols = math.ceil(a**.5)\n",
    "    nrows = math.ceil(a/ncols)\n",
    "    fig, axes = plt.subplots(nrows = nrows, ncols = ncols, \n",
    "                             figsize = (12, 12))\n",
    "\n",
    "    axes = axes.ravel()\n",
    "\n",
    "    for i in range(len(df.columns)):\n",
    "        axes[i].scatter(df.iloc[:, i], df[y], alpha = 0.2)\n",
    "        axes[i].set_title(df.columns[i])\n",
    "        axes[i].get_yaxis().set_ticks([])"
   ]
  },
  {
   "cell_type": "code",
   "execution_count": 922,
   "metadata": {},
   "outputs": [],
   "source": [
    "cols = ['MH_Index', 'gender', 'age', 'education', 'total_household', \n",
    "        'n_dependents', 'n_adults', 'income_avg_ln', 'marital_st', \n",
    "        'veteran', 'US_born', 'Length_US']"
   ]
  },
  {
   "cell_type": "code",
   "execution_count": 923,
   "metadata": {},
   "outputs": [
    {
     "data": {
      "image/png": "[encoded data removed]",
      "text/plain": [
       "<Figure size 864x864 with 12 Axes>"
      ]
     },
     "metadata": {
      "needs_background": "light"
     },
     "output_type": "display_data"
    }
   ],
   "source": [
    "mass_scatter(select_df[cols])"
   ]
  },
  {
   "cell_type": "markdown",
   "metadata": {},
   "source": [
    "# Baseline Model\n"
   ]
  },
  {
   "cell_type": "code",
   "execution_count": null,
   "metadata": {},
   "outputs": [],
   "source": []
  },
  {
   "cell_type": "code",
   "execution_count": null,
   "metadata": {},
   "outputs": [],
   "source": []
  },
  {
   "cell_type": "code",
   "execution_count": null,
   "metadata": {},
   "outputs": [],
   "source": [
    "# availability of health care/frequency of visits compared to the "
   ]
  }
 ],
 "metadata": {
  "kernelspec": {
   "display_name": "Python 3",
   "language": "python",
   "name": "python3"
  },
  "language_info": {
   "codemirror_mode": {
    "name": "ipython",
    "version": 3
   },
   "file_extension": ".py",
   "mimetype": "text/x-python",
   "name": "python",
   "nbconvert_exporter": "python",
   "pygments_lexer": "ipython3",
   "version": "3.7.4"
  }
 },
 "nbformat": 4,
 "nbformat_minor": 2
}
